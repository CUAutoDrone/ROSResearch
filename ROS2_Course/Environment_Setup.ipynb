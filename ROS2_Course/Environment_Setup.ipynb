{
 "cells": [
  {
   "cell_type": "markdown",
   "metadata": {},
   "source": [
    "## Environment Setup For ROS2\n",
    "\n",
    "* Now that you have ROS2 installed, you must source the setup.bash script in you distribution folder (Humble, Foxy, etc.) in order to use ROS2 in the current terminal/session.\n"
   ]
  },
  {
   "cell_type": "markdown",
   "metadata": {},
   "source": [
    "#### How to source setup.bash in terminal:\n",
    "  * 2 options:\n",
    "    * Option 1\n",
    "      - **cd /opt/ros/(distribution-name)**\n",
    "        * (distribution-name) --> Foxy, Humble, etc.\n",
    "        * cd /(directory-path) --> allows you to enter a directory path no matter where you are\n",
    "      - **source setup.bash**\n",
    "    * Option 2 \n",
    "      - **source /opt/ros/(distribution-name)/setup.bash**\n",
    "        * Automatically goes to correct folder\n",
    "  * If your source setup.bash in terminal, then **everytime you have a new terminal you must source**"
   ]
  },
  {
   "cell_type": "markdown",
   "metadata": {},
   "source": [
    "#### How to avoid re-sourcing setup.bash:\n",
    "* Add the command (**source /opt/ros/(distribution-name)/setup.bash**) to the .bashrc file located at (~/.bashrc)\n",
    "* Now you do **NOT** have to source setup.bash everytime you open a terminal (it is automatically done)"
   ]
  },
  {
   "cell_type": "markdown",
   "metadata": {},
   "source": []
  },
  {
   "cell_type": "markdown",
   "metadata": {},
   "source": [
    "#### Launching First ROS2 Program\n",
    "\n",
    "* From the installation, there are example programs that were installed for you to try\n",
    "* This demo runs concurrently a talker and listener node \n",
    "  * The talker node sends out a \"Hello World\" string\n",
    "  * The listener node listens for data and receives the \"Hello World\" string\n",
    "  * These nodes are running concurrently and are basically communicating between each other (the beauty of ROS)\n",
    "* Run the Talker Node\n",
    "  * **ros2 run demo_nodes_cpp talker**\n",
    "* Run the Listener Node\n",
    "  * **ros2 run demo_nodes_cpp listener**\n",
    "* If you first kill the Talker Node, you see the Listener Node also stops (no incoming data)"
   ]
  },
  {
   "cell_type": "markdown",
   "metadata": {},
   "source": []
  }
 ],
 "metadata": {
  "language_info": {
   "name": "python"
  }
 },
 "nbformat": 4,
 "nbformat_minor": 2
}
