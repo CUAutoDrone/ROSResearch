{
 "cells": [
  {
   "cell_type": "markdown",
   "metadata": {},
   "source": [
    "## What/When/Why Is ROS2?\n",
    "\n",
    "* Robot Operating System\n",
    "* Something between a middleware and a framework build for robotic applications\n",
    "* ROS goals:\n",
    "  * Provide a standard for robotic applications\n",
    "  * Use on any robot\n",
    "* When to use ROS:\n",
    "  * When you have complicated configurations of sensors, actuators and controllers and adding any code for a new sensor is difficult\n",
    "  * ROS2 helps whenever you need software that requires a lot of communcation between its subprograms\n",
    "* What is ROS2?\n",
    "  * Provides code separation and a set of communication tools to easily communication between all your subprograms\n",
    "  * Example: \n",
    "    * You have Nodes in ROS which are individual blocks of code that can be camera software, navigation algorithm and etc (like the backend software). \n",
    "    * These are independent blocks/Nodes and ROS2 allows communication between each other in away that is powerful and scalable\n",
    "  * ROS2 provides tools and libraries which save time such as Navigation Library for path planning\n",
    "  * ROS is language agnostic i.e. each Node can be any language (Python, C++)\n",
    "\n",
    "\n"
   ]
  },
  {
   "cell_type": "markdown",
   "metadata": {},
   "source": []
  }
 ],
 "metadata": {
  "language_info": {
   "name": "python"
  }
 },
 "nbformat": 4,
 "nbformat_minor": 2
}
