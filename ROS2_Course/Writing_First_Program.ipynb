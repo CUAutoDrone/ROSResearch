{
 "cells": [
  {
   "cell_type": "markdown",
   "metadata": {},
   "source": [
    "## Writing Your First ROS2 Program"
   ]
  },
  {
   "cell_type": "markdown",
   "metadata": {},
   "source": [
    "#### ROS2 Build Tool\n",
    "\n",
    "To create your own ROS2 programs, you will need a build tool specific to ROS2: **Colcon**\n",
    "\n",
    "* Colcon\n",
    "  * **sudo apt install python3-colcon-common-extensions**\n",
    "\n",
    "You should setup autocompletion feature with Colcon as well. In **/usr/share/colcon_argcomplete/hook/** there is a bash script called **colcon-argcomplete.bash** that needs to be sourced to use autocompletion features. Here is how you automatically source it\n",
    "  * Add the command (**source /usr/share/colcon_argcomplete/hook/colcon-argcomplete.bash**) to the .bashrc file located at (~/.bashrc)\n",
    "    - Open .bashrc file with **vim ~/.bashrc** or **gedit ~/.bashrc** if you have gedit\n",
    "  * Now you do **NOT** have to source the bash file everytime you open a terminal (it is automatically done)"
   ]
  },
  {
   "cell_type": "markdown",
   "metadata": {},
   "source": [
    "#### Setup ROS2 Workspace\n",
    "\n",
    "ROS2 Workspaces are where you will write and compile the code you need.\n",
    "\n",
    "Here are the steps:\n",
    "  * Create workspace directory: \n",
    "    * **mkdir (directory)**\n",
    "  * Enter the workspace dir and create source dir (source dir is where your code/packages will exist)\n",
    "    * **cd (directory)**\n",
    "    * **mkdir src**\n",
    "  * Build your workspace (creates build, install, and log dirs in your dir)\n",
    "    * **colcon build** --> enter this in workspace  (should see 0 packages finished)\n",
    "  * Enter install dir and source bash script\n",
    "    * **cd install**\n",
    "    * **source local_setup.bash** --> sources your local workspace that you just created (overlay)\n",
    "    * **source setup.bash** --> sources this local workspace and the global core ROS2 workspace (underlay)\n",
    "    * You can add the source command to /.bashrc file to have it automatically sourced\n",
    "\n"
   ]
  },
  {
   "cell_type": "markdown",
   "metadata": {},
   "source": [
    "#### Create a Python/C++ Package\n",
    "\n",
    "* To create a Node, you need a package first\n",
    "* Packages allow you to separate your code into reusable blocks\n",
    "* Each package is an independent unit --> e.g. you can have a package for a camera or motion planning\n",
    "* Let's create a Python Package:\n",
    "  * Go to **your workspace** directory\n",
    "  * Enter the **src** directory\n",
    "  * Enter **ros2 pkg create \"package_name\" --build-type \"type\"** to create your package\n",
    "    * \"type\" = ament_python --> python package\n",
    "    * \"type\" = ament_cmake --> C++ package\n",
    "    * after --build-type you can add dependencies (packages your new package relies on)\n",
    "      * Type **--dependencies \"python/c++ libraries\"**\n",
    "      * Usually add **rclpy** python package under dependencies for your python package\n",
    "      * Usually add **rclcpp** C++ package under dependencies for your python package\n",
    "* Your package directory contains:\n",
    "  * Python Package\n",
    "    * A sub-folder of the same name as the package--> where you put your nodes\n",
    "    * A resource folder\n",
    "    * A test folder with three test files\n",
    "    * A package.xml file which has a bunch of information\n",
    "      * License, description, dependencies, and build-type of the package\n",
    "    * Two setup.cfg and setup.py files\n",
    "  * C++ Package\n",
    "    * An include directory for header files\n",
    "    * A source (src) directory for cpp files\n",
    "    * A CMakeLists.txt --> where you compile code and where you want to install the code\n",
    "      * Also has info on dependencies\n",
    "    * A package.xml file which has a bunch of information\n",
    "      * License, description, dependencies, and build-type of the package\n",
    "* To **compile/build** your package:\n",
    "  * Go to your local ros2 workspace\n",
    "  * Type: **colcon build**\n",
    "    * If you get a stderr, don't worry\n",
    "    * **colcon build --packages-select \"package_name\"** allows you to compile only one package\n",
    "\n"
   ]
  },
  {
   "cell_type": "markdown",
   "metadata": {},
   "source": []
  }
 ],
 "metadata": {
  "language_info": {
   "name": "python"
  }
 },
 "nbformat": 4,
 "nbformat_minor": 2
}
