{
 "cells": [
  {
   "cell_type": "markdown",
   "metadata": {},
   "source": [
    "## Writing Your First ROS2 Program"
   ]
  },
  {
   "cell_type": "markdown",
   "metadata": {},
   "source": [
    "#### ROS2 Build Tool\n",
    "\n",
    "To create your own ROS2 programs, you will need a build tool specific to ROS2: **Colcon**\n",
    "\n",
    "* Colcon\n",
    "  * **sudo apt install python3-colcon-common-extensions**\n",
    "\n",
    "You should setup autocompletion feature with Colcon as well. In **/usr/share/colcon_argcomplete/hook/** there is a bash script called **colcon-argcomplete.bash** that needs to be sourced to use autocompletion features. Here is how you automatically source it\n",
    "  * Add the command (**source /usr/share/colcon_argcomplete/hook/colcon-argcomplete.bash**) to the .bashrc file located at (~/.bashrc)\n",
    "    - Open .bashrc file with **vim ~/.bashrc** or **gedit ~/.bashrc** if you have gedit\n",
    "  * Now you do **NOT** have to source the bash file everytime you open a terminal (it is automatically done)"
   ]
  },
  {
   "cell_type": "markdown",
   "metadata": {},
   "source": [
    "#### Setup ROS2 Workspace\n",
    "\n",
    "ROS2 Workspaces are where you will write and compile the code you need.\n",
    "\n",
    "Here are the steps:\n",
    "  * Create workspace directory: \n",
    "    * **mkdir (directory)**\n",
    "  * Enter the workspace dir and create source dir (source dir is where your code/packages will exist)\n",
    "    * **cd (directory)**\n",
    "    * **mkdir src**\n",
    "  * Build your workspace (creates build, install, and log dirs in your dir)\n",
    "    * **colcon build** --> enter this in workspace  (should see 0 packages finished)\n",
    "  * Enter install dir and source bash script\n",
    "    * **cd install**\n",
    "    * **source local_setup.bash** --> sources your local workspace that you just created (overlay)\n",
    "    * **source setup.bash** --> sources this local workspace and the global core ROS2 workspace (underlay)\n",
    "    * You can add the source command to /.bashrc file to have it automatically sourced\n",
    "\n"
   ]
  },
  {
   "cell_type": "markdown",
   "metadata": {},
   "source": []
  }
 ],
 "metadata": {
  "language_info": {
   "name": "python"
  }
 },
 "nbformat": 4,
 "nbformat_minor": 2
}
